{
 "cells": [
  {
   "cell_type": "code",
   "execution_count": 24,
   "source": [
    "from selenium import webdriver\r\n",
    "from selenium.webdriver.common.keys import Keys\r\n",
    "import time\r\n",
    "\r\n",
    "chromedriver = 'C:/Users/kobe2/util/chromedriver.exe'\r\n",
    "headless_options = webdriver.ChromeOptions()\r\n",
    "headless_options.add_argument('headless')\r\n",
    "headless_options.add_argument('window-size=1920x1080')\r\n",
    "headless_options.add_argument(\"disable-gpu\")\r\n",
    "headless_options.add_argument(\"User-Agent:  Mozilla/5.0 (Macintosh; Intel Mac OS X 10_14_4) AppleWebKit/537.36 (KHTML, like Gecko) Chrome/74.0.3729.131 Safari/537.36\")\r\n",
    "headless_options.add_argument(\"lang=ko_KR\")\r\n",
    "driver = webdriver.Chrome(chromedriver, options=headless_options)\r\n",
    "\r\n",
    "driver.get('https://news.v.daum.net/v/20210820180004812')\r\n",
    "\r\n",
    "# 기사 제목 가져오기_tag 사용\r\n",
    "title = driver.find_element_by_tag_name('h3')\r\n",
    "print(title.text)\r\n",
    "\r\n",
    "# 모든 tag 검색\r\n",
    "titles = driver.find_elements_by_tag_name('h3')\r\n",
    "for title in titles:\r\n",
    "    print(title.text)\r\n",
    "\r\n",
    "# 기사 내용 가져오기_id 사용\r\n",
    "body = driver.find_element_by_id('harmonyContainer')\r\n",
    "print(body.text)\r\n",
    "\r\n",
    "# 특정 태그 가져오기\r\n",
    "navi = driver.find_element_by_css_selector(\"div[role='navigation']\")\r\n",
    "print(navi.text)\r\n",
    "\r\n",
    "\r\n",
    "driver.quit()\r\n",
    "\r\n",
    "\r\n"
   ],
   "outputs": [
    {
     "output_type": "stream",
     "name": "stdout",
     "text": [
      "'거리두기 4단계 2주 연장' 대전서 오후 6시까지 20명 확진(종합)\n",
      "'거리두기 4단계 2주 연장' 대전서 오후 6시까지 20명 확진(종합)\n",
      "연합뉴스 주요 뉴스\n",
      "많이본 뉴스\n",
      "포토&TV\n",
      "이 시각 추천뉴스\n",
      "거리두기 4단계 (PG) [홍소영 제작] 일러스트\n",
      "(대전=연합뉴스) 김준호 기자 = 신종 코로나바이러스 감염증(코로나19) 확산과 관련해 대전에 적용 중인 사회적 거리두기 4단계가 다음 달 5일까지 2주간 연장된다.\n",
      "다만 오후 6시 이후 사적 모임 인원은 현행 2명에서 4명으로 완화된다.\n",
      "20일 대전시에 따르면 지역 내 신규 확진자는 15일 31명, 16일 33명, 17일 34명으로 사흘 연속 30명대를 기록했으나 18일 49명, 19일 58명으로 훌쩍 늘었다.\n",
      "전날까지 최근 1주일간 총 291명으로, 하루 평균 41.6명이다.\n",
      "이는 거리두기 4단계 기준(인구 10만명당 하루 4명·대전은 60명) 아래지만, 시는 방역 전문가, 중앙사고수습본부 등과 협의한 결과 사회적 거리두기 4단계를 2주 더 연장하기로 했다.\n",
      "오는 23일부터 9월 5일까지 14일 동안 적용된다.\n",
      "영업 제한 등으로 어려움을 겪는 소상공인과 자영업자를 위해 오후 6시 이후 2명으로 제한했던 사적 모임 인원은 4명까지 허용한다.\n",
      "유흥시설·단란주점·콜라텍·홀덤펍·노래연습장은 집합을 금지하고, 오후 10시까지 영업·운영시간을 제한하는 것 등은 종전 수칙과 동일하게 적용된다.\n",
      "방역 당국은 일주일 평균 하루 확진자 수가 30명대로 줄어 코로나19가 안정적으로 관리될 경우 거리두기 단계를 즉시 하향한다는 방침이다.\n",
      "대전에서는 이날 오후 6시까지 모두 20명이 확진됐다.\n",
      "전날 확진된 유성구 식당 종사자를 시작으로 이날 그의 동료 2명과 식당 아르바이트 4명 등 6명이 양성 판정을 받았다. 밤사이 확진된 그의 지인 1명을 포함하면 누적 확진자 수는 8명이 됐다.\n",
      "동구의 한 대학 운동부를 매개로 한 확진도 이어지면서 누적 확진자 수가 8명으로 늘었다.\n",
      "나머지 확진자들도 가족·지인 간 접촉을 통해 감염됐는데, 최초 감염원은 대부분 확인되지 않고 있다.\n",
      "kjunho@yna.co.kr\n",
      "저작권자(c)연합뉴스. 무단전재-재배포금지\n",
      "홈\n",
      "사회\n",
      "정치\n",
      "경제\n",
      "국제\n",
      "문화\n",
      "IT\n",
      "랭킹\n",
      "연재\n",
      "포토\n",
      "TV\n",
      "서울\n",
      "서울 28 ℃\n"
     ]
    }
   ],
   "metadata": {}
  },
  {
   "cell_type": "code",
   "execution_count": null,
   "source": [
    "# Crawling Daum articles using headless chrome\r\n",
    "# Using the chrome driver to log in to Twitter"
   ],
   "outputs": [],
   "metadata": {}
  }
 ],
 "metadata": {
  "orig_nbformat": 4,
  "language_info": {
   "name": "python",
   "version": "3.8.11",
   "mimetype": "text/x-python",
   "codemirror_mode": {
    "name": "ipython",
    "version": 3
   },
   "pygments_lexer": "ipython3",
   "nbconvert_exporter": "python",
   "file_extension": ".py"
  },
  "kernelspec": {
   "name": "python3",
   "display_name": "Python 3.8.11 64-bit ('scrapy_selenium': conda)"
  },
  "interpreter": {
   "hash": "14768aca903b1e3a164f113f17a2184ab6d468aaebeb8a5781ee59622e47e252"
  }
 },
 "nbformat": 4,
 "nbformat_minor": 2
}